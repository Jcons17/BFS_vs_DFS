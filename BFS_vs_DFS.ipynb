{
  "nbformat": 4,
  "nbformat_minor": 0,
  "metadata": {
    "colab": {
      "name": "BFS_vs_DFS.ipynb",
      "provenance": [],
      "collapsed_sections": []
    },
    "kernelspec": {
      "name": "python3",
      "display_name": "Python 3"
    }
  },
  "cells": [
    {
      "cell_type": "markdown",
      "metadata": {
        "id": "NwsaUhFRApFi"
      },
      "source": [
        "# Tarea IA\r\n",
        "##Julio Cesar Cons Calderón\r\n",
        "\r\n",
        "Buscar el camino correcto y diferenciar entre Depth first search y Breadth first search es un proceso vital para la optimización de problemas. En esta codigo desarrollado por Bryan Yu para el curso de Inteligencia Artificial con python, se muestre un laberinto y una serie de metodos que se usan para resolver. Los dos algoritmos que se utilizarán son el DFS y el BFS.  "
      ]
    },
    {
      "cell_type": "markdown",
      "metadata": {
        "id": "72t0kcT6DKuf"
      },
      "source": [
        "En esta celda se genera la clase Node. Sus atributos son el estado en el que se encuentra (coordenadas actuales), de cual otro nodo fue generada(coordenadas anteriores) y cual fue la acción que genero ese nodo."
      ]
    },
    {
      "cell_type": "code",
      "metadata": {
        "id": "xhczdf_iNdqB"
      },
      "source": [
        "class Node():\r\n",
        "    def __init__(self, state, parent, action):\r\n",
        "        self.state = state\r\n",
        "        self.parent = parent\r\n",
        "        self.action = action"
      ],
      "execution_count": 1,
      "outputs": []
    },
    {
      "cell_type": "markdown",
      "metadata": {
        "id": "BZmdbWdMDqPt"
      },
      "source": [
        "En esta celda se genera el algoritmo para DFS. Cuando se llama la función se crea una lista vacia que contendra los elementos en el frontier. Tiene un metodo que añade elementos al frontier, verifica si esta vacio y el mas importante, elimina el ultimo elemento del frontier. "
      ]
    },
    {
      "cell_type": "code",
      "metadata": {
        "id": "SImVMCRGYIHv"
      },
      "source": [
        "class StackFrontier():\r\n",
        "    def __init__(self):\r\n",
        "        self.frontier = []\r\n",
        "\r\n",
        "    def add(self, node):\r\n",
        "        self.frontier.append(node)\r\n",
        "\r\n",
        "    def contains_state(self, state):\r\n",
        "        return any(node.state == state for node in self.frontier)\r\n",
        "\r\n",
        "    def empty(self):\r\n",
        "        return len(self.frontier) == 0\r\n",
        "\r\n",
        "    def remove(self):\r\n",
        "        if self.empty():\r\n",
        "            raise Exception(\"empty frontier\")\r\n",
        "        else:\r\n",
        "            node = self.frontier[-1]\r\n",
        "            self.frontier = self.frontier[:-1]\r\n",
        "            return node"
      ],
      "execution_count": 2,
      "outputs": []
    },
    {
      "cell_type": "markdown",
      "metadata": {
        "id": "s_1RDY-dESBD"
      },
      "source": [
        "Aqui se genera el algoritmo para el BFS. Se heredan los mismos metodos de la clase DFS, exceptuando la parte de la eliminación de los elementos en el frontier. Aquí se elimina el primer elemento de la lista.  "
      ]
    },
    {
      "cell_type": "code",
      "metadata": {
        "id": "aMjFUau-OSNX"
      },
      "source": [
        "class QueueFrontier(StackFrontier):\r\n",
        "\r\n",
        "    def remove(self):\r\n",
        "        if self.empty():\r\n",
        "            raise Exception(\"empty frontier\")\r\n",
        "        else:\r\n",
        "            node = self.frontier[0]\r\n",
        "            self.frontier = self.frontier[1:]\r\n",
        "            return node"
      ],
      "execution_count": 3,
      "outputs": []
    },
    {
      "cell_type": "markdown",
      "metadata": {
        "id": "hbG_XE4OE1AB"
      },
      "source": [
        "En celda se genera la clase Maze que tiene varios metodos.  \r\n",
        "\r\n",
        "Esta sección de codigo tiene varias diferencias que con el original. Primero la clase maze ahora requiere dos atributos, el nombre del archivo de texto que contiene al laberinto y que algoritmo se utilizara para solucionar el laberinto.  \r\n",
        "\r\n",
        "\r\n",
        "```\r\n",
        "def __init__(self, filename,metodo):\r\n",
        "        self.metodo=metodo\r\n",
        "```\r\n",
        "```\r\n",
        "if self.metodo == \"DFS\":\r\n",
        "          frontier = StackFrontier()\r\n",
        "        else:\r\n",
        "          frontier = QueueFrontier()\r\n",
        "```\r\n",
        "El metodo neighbours dependiendo del estado del nodo, se comprueba cuales son sus estados \"vecinos\". Este metodo define una lista de posibles acciones y como ejecutarlas dependiendo del estado del nodo actual. En el codigo original, se muestra como: \r\n",
        "\r\n",
        "```\r\n",
        "candidates = [\r\n",
        "            (\"up\", (row - 1, col)),\r\n",
        "            (\"down\", (row + 1, col)),\r\n",
        "            (\"left\", (row, col - 1)),\r\n",
        "            (\"right\", (row, col + 1))\r\n",
        "        ]\r\n",
        "```\r\n",
        "\r\n",
        "Definir a los candidatos de esta manera, le da prioridad a la acción que va desde la ultima a la primera. De esta manera, cuando hay una bifurcación primero le da prioridad a ir hacia la derecha, despues a la izquierda, despues hacia abajo y por ultimo hacia arriba. En los laberintos que creamos, los inicios estan por la esquina superior izquierda y los finales en la esquinza inferior derecha. Por lo que nos conviene definir el orden de prioridad de bifurcación como:\r\n",
        "```\r\n",
        "candidates = [\r\n",
        "            (\"up\", (row - 1, col)),\r\n",
        "            (\"left\", (row, col - 1)),\r\n",
        "            (\"down\", (row + 1, col)),\r\n",
        "\r\n",
        "            (\"right\", (row, col + 1))\r\n",
        "        ]\r\n",
        "```\r\n",
        "De esta manera lo implementamos."
      ]
    },
    {
      "cell_type": "code",
      "metadata": {
        "id": "LD9_VprzObfP"
      },
      "source": [
        "\r\n",
        "class Maze():\r\n",
        "\r\n",
        "    def __init__(self, filename,metodo):\r\n",
        "        self.metodo=metodo\r\n",
        "\r\n",
        "        # Read file and set height and width of maze\r\n",
        "        with open(filename) as f:\r\n",
        "            contents = f.read()\r\n",
        "\r\n",
        "        # Validate start and goal\r\n",
        "        if contents.count(\"A\") != 1:\r\n",
        "            raise Exception(\"maze must have exactly one start point\")\r\n",
        "        if contents.count(\"B\") != 1:\r\n",
        "            raise Exception(\"maze must have exactly one goal\")\r\n",
        "\r\n",
        "        # Determine height and width of maze\r\n",
        "        contents = contents.splitlines()\r\n",
        "        self.height = len(contents)\r\n",
        "        self.width = max(len(line) for line in contents)\r\n",
        "\r\n",
        "        # Keep track of walls\r\n",
        "        self.walls = []\r\n",
        "        for i in range(self.height):\r\n",
        "            row = []\r\n",
        "            for j in range(self.width):\r\n",
        "                try:\r\n",
        "                    if contents[i][j] == \"A\":\r\n",
        "                        self.start = (i, j)\r\n",
        "                        row.append(False)\r\n",
        "                    elif contents[i][j] == \"B\":\r\n",
        "                        self.goal = (i, j)\r\n",
        "                        row.append(False)\r\n",
        "                    elif contents[i][j] == \" \":\r\n",
        "                        row.append(False)\r\n",
        "                    else:\r\n",
        "                        row.append(True)\r\n",
        "                except IndexError:\r\n",
        "                    row.append(False)\r\n",
        "            self.walls.append(row)\r\n",
        "\r\n",
        "        self.solution = None\r\n",
        "\r\n",
        "\r\n",
        "    def print(self):\r\n",
        "        solution = self.solution[1] if self.solution is not None else None\r\n",
        "        print()\r\n",
        "        for i, row in enumerate(self.walls):\r\n",
        "            for j, col in enumerate(row):\r\n",
        "                if col:\r\n",
        "                    print(\"█\", end=\"\")\r\n",
        "                elif (i, j) == self.start:\r\n",
        "                    print(\"A\", end=\"\")\r\n",
        "                elif (i, j) == self.goal:\r\n",
        "                    print(\"B\", end=\"\")\r\n",
        "                elif solution is not None and (i, j) in solution:\r\n",
        "                    print(\"*\", end=\"\")\r\n",
        "                else:\r\n",
        "                    print(\" \", end=\"\")\r\n",
        "            print()\r\n",
        "        print()\r\n",
        "\r\n",
        "\r\n",
        "    def neighbors(self, state):\r\n",
        "        row, col = state\r\n",
        "        candidates = [\r\n",
        "            (\"up\", (row - 1, col)),\r\n",
        "            (\"left\", (row, col - 1)),\r\n",
        "            (\"down\", (row + 1, col)),\r\n",
        "            (\"right\", (row, col + 1))\r\n",
        "        ]\r\n",
        "\r\n",
        "        result = []\r\n",
        "        for action, (r, c) in candidates:\r\n",
        "            if 0 <= r < self.height and 0 <= c < self.width and not self.walls[r][c]:\r\n",
        "                result.append((action, (r, c)))\r\n",
        "        return result\r\n",
        "\r\n",
        "\r\n",
        "    def solve(self):\r\n",
        "        \"\"\"Finds a solution to maze, if one exists.\"\"\"\r\n",
        "\r\n",
        "        # Keep track of number of states explored\r\n",
        "        self.num_explored = 0\r\n",
        "\r\n",
        "        # Initialize frontier to just the starting position\r\n",
        "        start = Node(state=self.start, parent=None, action=None)\r\n",
        "        if self.metodo == \"DFS\":\r\n",
        "          frontier = StackFrontier()\r\n",
        "        else:\r\n",
        "          frontier = QueueFrontier()\r\n",
        "\r\n",
        "        frontier.add(start)\r\n",
        "\r\n",
        "        # Initialize an empty explored set\r\n",
        "        self.explored = set()\r\n",
        "\r\n",
        "        # Keep looping until solution found\r\n",
        "        while True:\r\n",
        "\r\n",
        "            # If nothing left in frontier, then no path\r\n",
        "            if frontier.empty():\r\n",
        "                raise Exception(\"no solution\")\r\n",
        "\r\n",
        "            # Choose a node from the frontier\r\n",
        "            node = frontier.remove()\r\n",
        "            self.num_explored += 1\r\n",
        "\r\n",
        "            # If node is the goal, then we have a solution\r\n",
        "            if node.state == self.goal:\r\n",
        "                actions = []\r\n",
        "                cells = []\r\n",
        "                while node.parent is not None:\r\n",
        "                    actions.append(node.action)\r\n",
        "                    cells.append(node.state)\r\n",
        "                    node = node.parent\r\n",
        "                actions.reverse()\r\n",
        "                cells.reverse()\r\n",
        "                self.solution = (actions, cells)\r\n",
        "                return\r\n",
        "\r\n",
        "            # Mark node as explored\r\n",
        "            self.explored.add(node.state)\r\n",
        "\r\n",
        "            # Add neighbors to frontier\r\n",
        "            for action, state in self.neighbors(node.state):\r\n",
        "                if not frontier.contains_state(state) and state not in self.explored:\r\n",
        "                    child = Node(state=state, parent=node, action=action)\r\n",
        "                    frontier.add(child)\r\n",
        "\r\n",
        "\r\n",
        "    def output_image(self, filename, show_solution=True, show_explored=False):\r\n",
        "        from PIL import Image, ImageDraw\r\n",
        "        cell_size = 50\r\n",
        "        cell_border = 2\r\n",
        "\r\n",
        "        # Create a blank canvas\r\n",
        "        img = Image.new(\r\n",
        "            \"RGBA\",\r\n",
        "            (self.width * cell_size, self.height * cell_size),\r\n",
        "            \"black\"\r\n",
        "        )\r\n",
        "        draw = ImageDraw.Draw(img)\r\n",
        "\r\n",
        "        solution = self.solution[1] if self.solution is not None else None\r\n",
        "        for i, row in enumerate(self.walls):\r\n",
        "            for j, col in enumerate(row):\r\n",
        "\r\n",
        "                # Walls\r\n",
        "                if col:\r\n",
        "                    fill = (40, 40, 40)\r\n",
        "\r\n",
        "                # Start\r\n",
        "                elif (i, j) == self.start:\r\n",
        "                    fill = (255, 0, 0)\r\n",
        "\r\n",
        "                # Goal\r\n",
        "                elif (i, j) == self.goal:\r\n",
        "                    fill = (0, 171, 28)\r\n",
        "\r\n",
        "                # Solution\r\n",
        "                elif solution is not None and show_solution and (i, j) in solution:\r\n",
        "                    fill = (220, 235, 113)\r\n",
        "\r\n",
        "                # Explored\r\n",
        "                elif solution is not None and show_explored and (i, j) in self.explored:\r\n",
        "                    fill = (212, 97, 85)\r\n",
        "\r\n",
        "                # Empty cell\r\n",
        "                else:\r\n",
        "                    fill = (237, 240, 252)\r\n",
        "\r\n",
        "                # Draw cell\r\n",
        "                draw.rectangle(\r\n",
        "                    ([(j * cell_size + cell_border, i * cell_size + cell_border),\r\n",
        "                      ((j + 1) * cell_size - cell_border, (i + 1) * cell_size - cell_border)]),\r\n",
        "                    fill=fill\r\n",
        "                )\r\n",
        "\r\n",
        "        img.save(filename)\r\n",
        "\r\n",
        "\r\n"
      ],
      "execution_count": 4,
      "outputs": []
    },
    {
      "cell_type": "markdown",
      "metadata": {
        "id": "IAJMo7jlLIrW"
      },
      "source": [
        "En esta celda pusimos en una lista todos los elementos .txt, ya que estos contienen a todos los laberintos."
      ]
    },
    {
      "cell_type": "code",
      "metadata": {
        "colab": {
          "base_uri": "https://localhost:8080/"
        },
        "id": "tUEMFZ00m_KX",
        "outputId": "50c1406d-8ae5-4011-cdf3-525b696c4180"
      },
      "source": [
        "import os\r\n",
        "ejemplo_dir = './'\r\n",
        "contenido = os.listdir(ejemplo_dir)\r\n",
        "txt = []\r\n",
        "for fichero in contenido:\r\n",
        "    if os.path.isfile(os.path.join(ejemplo_dir, fichero)) and fichero.endswith('.txt'):\r\n",
        "        txt.append(fichero)\r\n",
        "txt"
      ],
      "execution_count": 10,
      "outputs": [
        {
          "output_type": "execute_result",
          "data": {
            "text/plain": [
              "['maze_2_Julio.txt', 'maze_1_Julio.txt', 'maze_3_Julio.txt']"
            ]
          },
          "metadata": {
            "tags": []
          },
          "execution_count": 10
        }
      ]
    },
    {
      "cell_type": "code",
      "metadata": {
        "id": "_e1PWf71LfHf"
      },
      "source": [
        "Creamos una función para imprimir el laberinto cuando no tiene solución."
      ],
      "execution_count": null,
      "outputs": []
    },
    {
      "cell_type": "code",
      "metadata": {
        "id": "a-1WSOwYsRhY"
      },
      "source": [
        "def showMaze(text,metodo):\r\n",
        "  m = Maze(text,metodo)\r\n",
        "  name= text.split(\".\").pop(0)\r\n",
        "  print(name)\r\n",
        "  m.print()\r\n"
      ],
      "execution_count": 6,
      "outputs": []
    },
    {
      "cell_type": "markdown",
      "metadata": {
        "id": "dGlK-UTfL0XK"
      },
      "source": [
        "Creamos una función para imprimir el laberinto cuando si tiene solución, ademas de decir en cuantos pasos lo hizo e imprimir. Tambien llamamos al metodo output_image que nos genera una imagen png con el laberinto resuelto y que otras opciones se exploraron"
      ]
    },
    {
      "cell_type": "code",
      "metadata": {
        "id": "FL-u3BGXm_WV"
      },
      "source": [
        "def showSolution(text,metodo):\r\n",
        "  m = Maze(text,metodo)\r\n",
        "  print(\"Solving with \"+metodo)\r\n",
        "  m.solve()\r\n",
        "  print(\"States Explored:\", m.num_explored)\r\n",
        "  print(\"Solution:\")\r\n",
        "  m.print()\r\n",
        "  name= text.split(\".\").pop(0)\r\n",
        "  m.output_image(name+\"_with_\"+metodo +\".png\", show_explored=True)\r\n"
      ],
      "execution_count": 7,
      "outputs": []
    },
    {
      "cell_type": "markdown",
      "metadata": {
        "id": "RfMiOL7FL_o6"
      },
      "source": [
        "Llamamos la función showMaze y mostramos la solución para los metodos DFS Y BFS, ademas de hacerlo para todos laberintos disponibles."
      ]
    },
    {
      "cell_type": "code",
      "metadata": {
        "colab": {
          "base_uri": "https://localhost:8080/"
        },
        "id": "234K1vrzOiOd",
        "outputId": "b9dfdffc-3257-412a-a4b4-1a0dd5aef776"
      },
      "source": [
        "\r\n",
        "for texto in txt:\r\n",
        "  showMaze(texto,\"DFS\")\r\n",
        "  print(\"____________________________________\")\r\n",
        "  showSolution(texto,\"DFS\")\r\n",
        "  print(\"____________________________________\")\r\n",
        "  showSolution(texto,\"BFS\")\r\n",
        "  print(\"____________________________________\")\r\n",
        "\r\n"
      ],
      "execution_count": 9,
      "outputs": [
        {
          "output_type": "stream",
          "text": [
            "maze_2_Julio\n",
            "\n",
            "A     ████\n",
            "███ ██████\n",
            "    ██████\n",
            "███     ██\n",
            "█   ██████\n",
            "███     ██\n",
            "███████ ██\n",
            "█       ██\n",
            "███ ██████\n",
            "█B     ███\n",
            "\n",
            "____________________________________\n",
            "Solving with DFS\n",
            "States Explored: 39\n",
            "Solution:\n",
            "\n",
            "A***  ████\n",
            "███*██████\n",
            "   *██████\n",
            "███*    ██\n",
            "█  *██████\n",
            "███*****██\n",
            "███████*██\n",
            "█  *****██\n",
            "███*██████\n",
            "█B**   ███\n",
            "\n",
            "____________________________________\n",
            "Solving with BFS\n",
            "States Explored: 37\n",
            "Solution:\n",
            "\n",
            "A***  ████\n",
            "███*██████\n",
            "   *██████\n",
            "███*    ██\n",
            "█  *██████\n",
            "███*****██\n",
            "███████*██\n",
            "█  *****██\n",
            "███*██████\n",
            "█B**   ███\n",
            "\n",
            "____________________________________\n",
            "maze_1_Julio\n",
            "\n",
            "A       ██\n",
            "█ █████ ██\n",
            "█ █  ██ ██\n",
            "█ ██ ██ ██\n",
            "█ ██    ██\n",
            "█ ████████\n",
            "█ ████████\n",
            "█       ██\n",
            "███████ ██\n",
            "███████B██\n",
            "\n",
            "____________________________________\n",
            "Solving with DFS\n",
            "States Explored: 33\n",
            "Solution:\n",
            "\n",
            "A*      ██\n",
            "█*█████ ██\n",
            "█*█  ██ ██\n",
            "█*██ ██ ██\n",
            "█*██    ██\n",
            "█*████████\n",
            "█*████████\n",
            "█*******██\n",
            "███████*██\n",
            "███████B██\n",
            "\n",
            "____________________________________\n",
            "Solving with BFS\n",
            "States Explored: 31\n",
            "Solution:\n",
            "\n",
            "A*      ██\n",
            "█*█████ ██\n",
            "█*█  ██ ██\n",
            "█*██ ██ ██\n",
            "█*██    ██\n",
            "█*████████\n",
            "█*████████\n",
            "█*******██\n",
            "███████*██\n",
            "███████B██\n",
            "\n",
            "____________________________________\n",
            "maze_3_Julio\n",
            "\n",
            "A                                 █       ██ \n",
            "██████████ █████████ ██████████████ ███ █ ██ \n",
            "         █ ██     ██ █              ███ █ ██ \n",
            " ████ ██ █ ██ ███    ██ ███████████ ███ █ ██ \n",
            " ████ ████ ██ ███ █████ ██          ███ █ ██ \n",
            "   ██      ██ ███       ██ ████████████ █ ██ \n",
            " ██████████   ███   ██████ ██          █  █  \n",
            "   ██ █████ ██████      ██ ██ ████ ████ █    \n",
            " █ ██    ██ ███████ ██████   ██ ████ ██ ██ █ \n",
            "██ █████ ██ ████ ██    ███ █████ ████ ██ █ █ \n",
            "     ███ ██      █████ ███ ██████████ ██ █ █ \n",
            "██ █ ███ ███████ █████ ███      █████    █ █ \n",
            " ███████               ████████ ██████████ █ \n",
            "         ██████████████████████          B███\n",
            "                                             \n",
            "\n",
            "____________________________________\n",
            "Solving with DFS\n",
            "States Explored: 100\n",
            "Solution:\n",
            "\n",
            "A********************             █       ██ \n",
            "██████████ █████████*██████████████ ███ █ ██ \n",
            "         █ ██     ██*█ *************███ █ ██ \n",
            " ████ ██ █ ██ ███****██*███████████*███ █ ██ \n",
            " ████ ████ ██ ███*█████*██**********███ █ ██ \n",
            "   ██      ██ ███*******██*████████████ █ ██ \n",
            " ██████████   ███   ██████*██          █  █  \n",
            "   ██ █████ ██████      ██*██ ████ ████ █    \n",
            " █ ██    ██ ███████ ██████*  ██ ████ ██ ██ █ \n",
            "██ █████ ██ ████ ██    ███*█████ ████ ██ █ █ \n",
            "     ███ ██      █████ ███*██████████ ██ █ █ \n",
            "██ █ ███ ███████ █████ ███******█████    █ █ \n",
            " ███████               ████████*██████████ █ \n",
            "         ██████████████████████**********B███\n",
            "                                             \n",
            "\n",
            "____________________________________\n",
            "Solving with BFS\n",
            "States Explored: 296\n",
            "Solution:\n",
            "\n",
            "A********************             █       ██ \n",
            "██████████ █████████*██████████████ ███ █ ██ \n",
            "         █ ██     ██*█ *************███ █ ██ \n",
            " ████ ██ █ ██ ███****██*███████████*███ █ ██ \n",
            " ████ ████ ██ ███*█████*██**********███ █ ██ \n",
            "   ██      ██ ███*******██*████████████ █ ██ \n",
            " ██████████   ███   ██████*██          █  █  \n",
            "   ██ █████ ██████      ██*██ ████ ████ █    \n",
            " █ ██    ██ ███████ ██████*  ██ ████ ██ ██ █ \n",
            "██ █████ ██ ████ ██    ███*█████ ████ ██ █ █ \n",
            "     ███ ██      █████ ███*██████████ ██ █ █ \n",
            "██ █ ███ ███████ █████ ███******█████    █ █ \n",
            " ███████               ████████*██████████ █ \n",
            "         ██████████████████████**********B███\n",
            "                                             \n",
            "\n",
            "____________________________________\n"
          ],
          "name": "stdout"
        }
      ]
    },
    {
      "cell_type": "code",
      "metadata": {
        "id": "1DwWRw3Sv3qa"
      },
      "source": [
        "import matplotlib.pyplot as plt\r\n",
        "import matplotlib.image as mpimg\r\n",
        "\r\n",
        "class imagen():\r\n",
        "\r\n",
        "  def __init__(self,metodo):\r\n",
        "    self.metodo = metodo\r\n",
        "    self.lista = self.lis()\r\n",
        "\r\n",
        "  def lis(self):  \r\n",
        "    ejemplo_dir = './'\r\n",
        "    contenido = os.listdir(ejemplo_dir)\r\n",
        "    img = []\r\n",
        "    for fichero in contenido:\r\n",
        "        if os.path.isfile(os.path.join(ejemplo_dir, fichero)) and fichero.endswith(str(self.metodo) + '.png'):\r\n",
        "            img.append(fichero)\r\n",
        "    return img    \r\n",
        "\r\n",
        "  def array(self):\r\n",
        "    array=[]\r\n",
        "    for i in self.lista:\r\n",
        "      aux=img = mpimg.imread('./'+str(i))\r\n",
        "      array.append(aux)\r\n",
        "    return array  \r\n",
        "\r\n",
        "  def graficar(self):\r\n",
        "    import matplotlib.pyplot as plt\r\n",
        "    nx = len(self.lista)\r\n",
        "    ny = 1\r\n",
        "    dxs = 8.0\r\n",
        "    dys = 6.0\r\n",
        "\r\n",
        "    fig, ax = plt.subplots(ny, nx, sharey = True, figsize=(dxs*nx, dys*ny) )\r\n",
        "    for i in range(nx):\r\n",
        "        ax[i].imshow(self.array()[i],aspect=\"equal\")\r\n",
        "        ax[i].set_title(self.lista[i])\r\n",
        "        ax[i].axis(\"off\")\r\n",
        "    plt.show()\r\n",
        "\r\n",
        "  "
      ],
      "execution_count": 124,
      "outputs": []
    },
    {
      "cell_type": "code",
      "metadata": {
        "colab": {
          "base_uri": "https://localhost:8080/",
          "height": 272
        },
        "id": "5YVzjbgcQN3A",
        "outputId": "725fc330-604a-4623-9463-c858f35c298f"
      },
      "source": [
        "imagen(\"BFS\").graficar()"
      ],
      "execution_count": 125,
      "outputs": [
        {
          "output_type": "display_data",
          "data": {
            "image/png": "[encoded data removed]",
            "text/plain": [
              "<Figure size 1728x432 with 3 Axes>"
            ]
          },
          "metadata": {
            "tags": [],
            "needs_background": "light"
          }
        }
      ]
    },
    {
      "cell_type": "code",
      "metadata": {
        "colab": {
          "base_uri": "https://localhost:8080/",
          "height": 282
        },
        "id": "RrGNryBZOzpg",
        "outputId": "1cb543cb-124a-436c-d418-2c20377c0240"
      },
      "source": [
        "imagen(\"DFS\").graficar()"
      ],
      "execution_count": 126,
      "outputs": [
        {
          "output_type": "display_data",
          "data": {
            "image/png": "[encoded data removed]",
            "text/plain": [
              "<Figure size 1728x432 with 3 Axes>"
            ]
          },
          "metadata": {
            "tags": [],
            "needs_background": "light"
          }
        }
      ]
    }
  ]
}